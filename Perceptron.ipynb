{
  "nbformat": 4,
  "nbformat_minor": 0,
  "metadata": {
    "colab": {
      "name": "Untitled0.ipynb",
      "provenance": [],
      "mount_file_id": "19yYHgwd-io7Q5VKblTONuDFqeNDJn5Il",
      "authorship_tag": "ABX9TyO0V9BoISy0LCifVpBdu+qV",
      "include_colab_link": true
    },
    "kernelspec": {
      "name": "python3",
      "display_name": "Python 3"
    },
    "language_info": {
      "name": "python"
    }
  },
  "cells": [
    {
      "cell_type": "markdown",
      "metadata": {
        "id": "view-in-github",
        "colab_type": "text"
      },
      "source": [
        "<a href=\"https://colab.research.google.com/github/Rhucha56/ProgrammingAssignment2/blob/master/Perceptron.ipynb\" target=\"_parent\"><img src=\"https://colab.research.google.com/assets/colab-badge.svg\" alt=\"Open In Colab\"/></a>"
      ]
    },
    {
      "cell_type": "code",
      "execution_count": 1,
      "metadata": {
        "id": "Hcuz57lJ5C20"
      },
      "outputs": [],
      "source": [
        "# importing Python library\n",
        "import numpy as np"
      ]
    },
    {
      "cell_type": "code",
      "source": [
        "# define Unit Step Function\n",
        "def unitStep(v):\n",
        "\tif v >= 0:\n",
        "\t\treturn 1\n",
        "\telse:\n",
        "\t\treturn 0\n",
        "\n",
        "# design Perceptron Model\n",
        "def perceptronModel(x, w, b):\n",
        "\tv = np.dot(w, x) + b\n",
        "\ty = unitStep(v)\n",
        "\treturn y\n",
        "\n",
        "# NOR Logic Function\n",
        "def NOR_logicFunction(x):\n",
        "    output_OR = OR_F(x)\n",
        "    output_NOT = NOT_F(output_OR)\n",
        "    return output_NOT\n",
        "\n",
        "# for NOT gate \n",
        "test_no1 = np.array(1)\n",
        "test_no2 = np.array(0)\n",
        "\n",
        "# testing the Perceptron Model\n",
        "test1 = np.array([0, 1])\n",
        "test2 = np.array([1, 1])\n",
        "test3 = np.array([0, 0])\n",
        "test4 = np.array([1, 0])"
      ],
      "metadata": {
        "id": "FrRix0Sz7iel"
      },
      "execution_count": 2,
      "outputs": []
    },
    {
      "cell_type": "code",
      "source": [
        "# Or gate\n",
        "def OR_F(x):\n",
        "\tw = np.array([1, 1])\n",
        "\tb = -0.5\n",
        "\treturn perceptronModel(x, w, b)\n",
        "print(\"OR Gate\")\n",
        "print(\"OR({}, {}) = {}\".format(0, 1, OR_F(test1)))\n",
        "print(\"OR({}, {}) = {}\".format(1, 1, OR_F(test2)))\n",
        "print(\"OR({}, {}) = {}\".format(0, 0, OR_F(test3)))\n",
        "print(\"OR({}, {}) = {}\".format(1, 0, OR_F(test4)))"
      ],
      "metadata": {
        "colab": {
          "base_uri": "https://localhost:8080/"
        },
        "id": "eKGL5gv77n1v",
        "outputId": "c29ff87e-c827-46d9-e1ce-568ace16f6c7"
      },
      "execution_count": 3,
      "outputs": [
        {
          "output_type": "stream",
          "name": "stdout",
          "text": [
            "OR Gate\n",
            "OR(0, 1) = 1\n",
            "OR(1, 1) = 1\n",
            "OR(0, 0) = 0\n",
            "OR(1, 0) = 1\n"
          ]
        }
      ]
    },
    {
      "cell_type": "code",
      "source": [
        "# Not gate\n",
        "def NOT_F(x):\n",
        "    wNOT = -1\n",
        "    bNOT = 0.5\n",
        "    return perceptronModel(x, wNOT, bNOT)\n",
        "\n",
        "# for NOT gate \n",
        "test_no1 = np.array(1)\n",
        "test_no2 = np.array(0)\n",
        "\n",
        "print(\"NOT Gate\")\n",
        "print(\"NOT({}) = {}\".format(1, NOT_F(test_no1)))\n",
        "print(\"NOT({}) = {}\".format(0, NOT_F(test_no2)))"
      ],
      "metadata": {
        "colab": {
          "base_uri": "https://localhost:8080/"
        },
        "id": "ImiJJJd3Hmik",
        "outputId": "12c03fea-f18e-4fc1-fbd7-68ea7598df89"
      },
      "execution_count": 4,
      "outputs": [
        {
          "output_type": "stream",
          "name": "stdout",
          "text": [
            "NOT Gate\n",
            "NOT(1) = 0\n",
            "NOT(0) = 1\n"
          ]
        }
      ]
    },
    {
      "cell_type": "code",
      "source": [
        "# And gate\n",
        "def AND_Function(x):\n",
        "\tw = np.array([1, 1])\n",
        "\tb = -1.5\n",
        "\treturn perceptronModel(x, w, b)\n",
        "print(\"AND Gate\")\n",
        "print(\"AND({}, {}) = {}\".format(0, 1, AND_Function(test1)))\n",
        "print(\"AND({}, {}) = {}\".format(1, 1, AND_Function(test2)))\n",
        "print(\"AND({}, {}) = {}\".format(0, 0, AND_Function(test3)))\n",
        "print(\"AND({}, {}) = {}\".format(1, 0, AND_Function(test4)))"
      ],
      "metadata": {
        "colab": {
          "base_uri": "https://localhost:8080/"
        },
        "id": "o_cmXgvpHv6Z",
        "outputId": "d4b69df4-966d-4c95-c82f-c66b2a1a3b81"
      },
      "execution_count": 5,
      "outputs": [
        {
          "output_type": "stream",
          "name": "stdout",
          "text": [
            "AND Gate\n",
            "AND(0, 1) = 0\n",
            "AND(1, 1) = 1\n",
            "AND(0, 0) = 0\n",
            "AND(1, 0) = 0\n"
          ]
        }
      ]
    },
    {
      "cell_type": "code",
      "source": [
        "# Nor gate\n",
        "def NOR_logicFunction(x):\n",
        "    output_OR = OR_F(x)\n",
        "    output_NOT = NOT_F(output_OR)\n",
        "    return output_NOT\n",
        "\n",
        "print(\"NOR Gate\")\n",
        "print(\"NOR({}, {}) = {}\".format(0, 1, NOR_logicFunction(test1)))\n",
        "print(\"NOR({}, {}) = {}\".format(1, 1, NOR_logicFunction(test2)))\n",
        "print(\"NOR({}, {}) = {}\".format(0, 0, NOR_logicFunction(test3)))\n",
        "print(\"NOR({}, {}) = {}\".format(1, 0, NOR_logicFunction(test4)))"
      ],
      "metadata": {
        "colab": {
          "base_uri": "https://localhost:8080/"
        },
        "id": "0ppnFlLXISz2",
        "outputId": "c807f7db-ba9b-40a0-df7f-724ec056c618"
      },
      "execution_count": 6,
      "outputs": [
        {
          "output_type": "stream",
          "name": "stdout",
          "text": [
            "NOR Gate\n",
            "NOR(0, 1) = 0\n",
            "NOR(1, 1) = 0\n",
            "NOR(0, 0) = 1\n",
            "NOR(1, 0) = 0\n"
          ]
        }
      ]
    }
  ]
}